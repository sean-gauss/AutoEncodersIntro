{
 "cells": [
  {
   "cell_type": "markdown",
   "metadata": {},
   "source": [
    "<h1>An introduction to Deep AutoEncoders</h1>"
   ]
  },
  {
   "cell_type": "code",
   "execution_count": 15,
   "metadata": {},
   "outputs": [],
   "source": [
    "import pickle\n",
    "pickle_in = open(\"all_jets_train_4D_100_percent.pkl\",\"rb\")\n",
    "pickle_in1 = open(\"all_jets_test_4D_100_percent.pkl\",\"rb\")\n",
    "train = pickle.load(pickle_in)\n",
    "test=pickle.load(pickle_in1)"
   ]
  },
  {
   "cell_type": "markdown",
   "metadata": {},
   "source": [
    "<h2>Testing if training and testing data has been loaded properly</h2>"
   ]
  },
  {
   "cell_type": "code",
   "execution_count": 2,
   "metadata": {},
   "outputs": [
    {
     "data": {
      "text/html": [
       "<div>\n",
       "<style scoped>\n",
       "    .dataframe tbody tr th:only-of-type {\n",
       "        vertical-align: middle;\n",
       "    }\n",
       "\n",
       "    .dataframe tbody tr th {\n",
       "        vertical-align: top;\n",
       "    }\n",
       "\n",
       "    .dataframe thead th {\n",
       "        text-align: right;\n",
       "    }\n",
       "</style>\n",
       "<table border=\"1\" class=\"dataframe\">\n",
       "  <thead>\n",
       "    <tr style=\"text-align: right;\">\n",
       "      <th></th>\n",
       "      <th>m</th>\n",
       "      <th>pt</th>\n",
       "      <th>phi</th>\n",
       "      <th>eta</th>\n",
       "    </tr>\n",
       "  </thead>\n",
       "  <tbody>\n",
       "    <tr>\n",
       "      <th>132784</th>\n",
       "      <td>3831.839355</td>\n",
       "      <td>22000.609375</td>\n",
       "      <td>1.567018</td>\n",
       "      <td>1.142924</td>\n",
       "    </tr>\n",
       "    <tr>\n",
       "      <th>99666</th>\n",
       "      <td>4582.417480</td>\n",
       "      <td>21648.210938</td>\n",
       "      <td>-2.680558</td>\n",
       "      <td>0.213654</td>\n",
       "    </tr>\n",
       "    <tr>\n",
       "      <th>26629</th>\n",
       "      <td>16747.765625</td>\n",
       "      <td>169514.281250</td>\n",
       "      <td>-1.948239</td>\n",
       "      <td>1.163296</td>\n",
       "    </tr>\n",
       "    <tr>\n",
       "      <th>80473</th>\n",
       "      <td>14789.586914</td>\n",
       "      <td>183085.609375</td>\n",
       "      <td>-1.641102</td>\n",
       "      <td>2.670927</td>\n",
       "    </tr>\n",
       "    <tr>\n",
       "      <th>48229</th>\n",
       "      <td>4646.724121</td>\n",
       "      <td>20527.130859</td>\n",
       "      <td>2.922270</td>\n",
       "      <td>-1.158871</td>\n",
       "    </tr>\n",
       "    <tr>\n",
       "      <th>61832</th>\n",
       "      <td>6236.774414</td>\n",
       "      <td>30013.537109</td>\n",
       "      <td>-2.962712</td>\n",
       "      <td>0.091814</td>\n",
       "    </tr>\n",
       "    <tr>\n",
       "      <th>26867</th>\n",
       "      <td>17774.943359</td>\n",
       "      <td>205705.046875</td>\n",
       "      <td>2.472530</td>\n",
       "      <td>-1.299140</td>\n",
       "    </tr>\n",
       "    <tr>\n",
       "      <th>46232</th>\n",
       "      <td>4181.291992</td>\n",
       "      <td>20511.900391</td>\n",
       "      <td>-1.937396</td>\n",
       "      <td>-1.893408</td>\n",
       "    </tr>\n",
       "    <tr>\n",
       "      <th>44194</th>\n",
       "      <td>4537.854492</td>\n",
       "      <td>29095.220703</td>\n",
       "      <td>2.703056</td>\n",
       "      <td>-1.746550</td>\n",
       "    </tr>\n",
       "    <tr>\n",
       "      <th>59782</th>\n",
       "      <td>6769.761719</td>\n",
       "      <td>26334.353516</td>\n",
       "      <td>1.344461</td>\n",
       "      <td>-2.599911</td>\n",
       "    </tr>\n",
       "  </tbody>\n",
       "</table>\n",
       "</div>"
      ],
      "text/plain": [
       "                   m             pt       phi       eta\n",
       "132784   3831.839355   22000.609375  1.567018  1.142924\n",
       "99666    4582.417480   21648.210938 -2.680558  0.213654\n",
       "26629   16747.765625  169514.281250 -1.948239  1.163296\n",
       "80473   14789.586914  183085.609375 -1.641102  2.670927\n",
       "48229    4646.724121   20527.130859  2.922270 -1.158871\n",
       "61832    6236.774414   30013.537109 -2.962712  0.091814\n",
       "26867   17774.943359  205705.046875  2.472530 -1.299140\n",
       "46232    4181.291992   20511.900391 -1.937396 -1.893408\n",
       "44194    4537.854492   29095.220703  2.703056 -1.746550\n",
       "59782    6769.761719   26334.353516  1.344461 -2.599911"
      ]
     },
     "execution_count": 2,
     "metadata": {},
     "output_type": "execute_result"
    }
   ],
   "source": [
    "train.head(10)"
   ]
  },
  {
   "cell_type": "code",
   "execution_count": 3,
   "metadata": {},
   "outputs": [
    {
     "data": {
      "text/html": [
       "<div>\n",
       "<style scoped>\n",
       "    .dataframe tbody tr th:only-of-type {\n",
       "        vertical-align: middle;\n",
       "    }\n",
       "\n",
       "    .dataframe tbody tr th {\n",
       "        vertical-align: top;\n",
       "    }\n",
       "\n",
       "    .dataframe thead th {\n",
       "        text-align: right;\n",
       "    }\n",
       "</style>\n",
       "<table border=\"1\" class=\"dataframe\">\n",
       "  <thead>\n",
       "    <tr style=\"text-align: right;\">\n",
       "      <th></th>\n",
       "      <th>m</th>\n",
       "      <th>pt</th>\n",
       "      <th>phi</th>\n",
       "      <th>eta</th>\n",
       "    </tr>\n",
       "  </thead>\n",
       "  <tbody>\n",
       "    <tr>\n",
       "      <th>85972</th>\n",
       "      <td>4983.729980</td>\n",
       "      <td>23798.070312</td>\n",
       "      <td>1.962157</td>\n",
       "      <td>-0.059532</td>\n",
       "    </tr>\n",
       "    <tr>\n",
       "      <th>38742</th>\n",
       "      <td>5435.273438</td>\n",
       "      <td>21881.867188</td>\n",
       "      <td>1.035412</td>\n",
       "      <td>0.734343</td>\n",
       "    </tr>\n",
       "    <tr>\n",
       "      <th>128711</th>\n",
       "      <td>5239.408691</td>\n",
       "      <td>24608.134766</td>\n",
       "      <td>-1.121055</td>\n",
       "      <td>0.828848</td>\n",
       "    </tr>\n",
       "    <tr>\n",
       "      <th>28751</th>\n",
       "      <td>14121.240234</td>\n",
       "      <td>203110.953125</td>\n",
       "      <td>0.324205</td>\n",
       "      <td>-2.571108</td>\n",
       "    </tr>\n",
       "    <tr>\n",
       "      <th>131358</th>\n",
       "      <td>3344.826660</td>\n",
       "      <td>24897.294922</td>\n",
       "      <td>0.395331</td>\n",
       "      <td>1.440069</td>\n",
       "    </tr>\n",
       "    <tr>\n",
       "      <th>44010</th>\n",
       "      <td>4970.624023</td>\n",
       "      <td>21658.121094</td>\n",
       "      <td>-2.435544</td>\n",
       "      <td>-0.388735</td>\n",
       "    </tr>\n",
       "    <tr>\n",
       "      <th>20111</th>\n",
       "      <td>4642.400879</td>\n",
       "      <td>26393.455078</td>\n",
       "      <td>1.749449</td>\n",
       "      <td>-1.149457</td>\n",
       "    </tr>\n",
       "    <tr>\n",
       "      <th>137856</th>\n",
       "      <td>17355.609375</td>\n",
       "      <td>184078.937500</td>\n",
       "      <td>2.364634</td>\n",
       "      <td>-1.783496</td>\n",
       "    </tr>\n",
       "    <tr>\n",
       "      <th>87065</th>\n",
       "      <td>5070.462891</td>\n",
       "      <td>20717.832031</td>\n",
       "      <td>-1.479996</td>\n",
       "      <td>1.588451</td>\n",
       "    </tr>\n",
       "    <tr>\n",
       "      <th>39358</th>\n",
       "      <td>8267.166016</td>\n",
       "      <td>44952.789062</td>\n",
       "      <td>-0.580280</td>\n",
       "      <td>-0.356304</td>\n",
       "    </tr>\n",
       "  </tbody>\n",
       "</table>\n",
       "</div>"
      ],
      "text/plain": [
       "                   m             pt       phi       eta\n",
       "85972    4983.729980   23798.070312  1.962157 -0.059532\n",
       "38742    5435.273438   21881.867188  1.035412  0.734343\n",
       "128711   5239.408691   24608.134766 -1.121055  0.828848\n",
       "28751   14121.240234  203110.953125  0.324205 -2.571108\n",
       "131358   3344.826660   24897.294922  0.395331  1.440069\n",
       "44010    4970.624023   21658.121094 -2.435544 -0.388735\n",
       "20111    4642.400879   26393.455078  1.749449 -1.149457\n",
       "137856  17355.609375  184078.937500  2.364634 -1.783496\n",
       "87065    5070.462891   20717.832031 -1.479996  1.588451\n",
       "39358    8267.166016   44952.789062 -0.580280 -0.356304"
      ]
     },
     "execution_count": 3,
     "metadata": {},
     "output_type": "execute_result"
    }
   ],
   "source": [
    "test.head(10)"
   ]
  },
  {
   "cell_type": "markdown",
   "metadata": {},
   "source": [
    "<h2>Loading libraries needed to declare our class</h2>\n"
   ]
  },
  {
   "cell_type": "code",
   "execution_count": 4,
   "metadata": {},
   "outputs": [],
   "source": [
    "%matplotlib inline\n",
    "import matplotlib as mpl\n",
    "import sys\n",
    "BIN = '../'\n",
    "sys.path.append(BIN)\n",
    "import numpy as np\n",
    "import torch\n",
    "import torch.nn as nn\n",
    "#import torch.nn.parallel\n",
    "import torch.optim as optim\n",
    "import torch.utils.data\n",
    "\n",
    "from torch.utils.data import TensorDataset\n",
    "from torch.utils.data import DataLoader\n",
    "\n",
    "from fastai import basic_train, basic_data\n",
    "from fastai.callbacks import ActivationStats\n",
    "import fastai\n"
   ]
  },
  {
   "cell_type": "markdown",
   "metadata": {},
   "source": [
    "<h2>Declaration of our model which will be used to train the dataset</h2>"
   ]
  },
  {
   "cell_type": "code",
   "execution_count": 5,
   "metadata": {},
   "outputs": [],
   "source": [
    "## Bringing AE_3D_200 Model\n",
    "\n",
    "import torch\n",
    "from torch import nn\n",
    "from torch.utils.data import DataLoader\n",
    "import numpy as np\n",
    "import datetime\n",
    "import time\n",
    "import pandas as pd\n",
    "\n",
    "class AE_3D_200(nn.Module):\n",
    "    def __init__(self, n_features=4):\n",
    "        super(AE_3D_200, self).__init__()\n",
    "        self.en1 = nn.Linear(n_features, 200)\n",
    "        self.en2 = nn.Linear(200, 100)\n",
    "        self.en3 = nn.Linear(100, 50)\n",
    "        self.en4 = nn.Linear(50, 3)\n",
    "        self.de1 = nn.Linear(3, 50)\n",
    "        self.de2 = nn.Linear(50, 100)\n",
    "        self.de3 = nn.Linear(100, 200)\n",
    "        self.de4 = nn.Linear(200, n_features)\n",
    "        self.tanh = nn.Tanh()\n",
    "\n",
    "    def encode(self, x):\n",
    "        return self.en4(self.tanh(self.en3(self.tanh(self.en2(self.tanh(self.en1(x)))))))\n",
    "\n",
    "    def decode(self, x):\n",
    "        return self.de4(self.tanh(self.de3(self.tanh(self.de2(self.tanh(self.de1(self.tanh(x))))))))\n",
    "\n",
    "    def forward(self, x):\n",
    "        z = self.encode(x)\n",
    "        return self.decode(z)\n",
    "\n",
    "    def describe(self):\n",
    "        return 'in-200-100-50-3-50-100-200-out'"
   ]
  },
  {
   "cell_type": "markdown",
   "metadata": {},
   "source": [
    "<h2>Mathematical Operations on Data to ensure optimum results while training</h2>"
   ]
  },
  {
   "cell_type": "code",
   "execution_count": 6,
   "metadata": {},
   "outputs": [],
   "source": [
    "n_features = len(train.loc[0])\n",
    "# Normalize\n",
    "train_mean = train.mean()\n",
    "train_std = train.std()\n",
    "\n",
    "train = (train - train_mean) / train_std\n",
    "test = (test - train_mean) / train_std\n",
    "\n",
    "train_x = train\n",
    "test_x = test\n",
    "train_y = train_x  # y = x since we are building and AE\n",
    "test_y = test_x"
   ]
  },
  {
   "cell_type": "markdown",
   "metadata": {},
   "source": [
    "<h2>Declaration of loss function which will be used to develop the trained model</h2>"
   ]
  },
  {
   "cell_type": "code",
   "execution_count": 7,
   "metadata": {},
   "outputs": [],
   "source": [
    "train_ds = TensorDataset(torch.tensor(train_x.values).float(), torch.tensor(train_y.values).float())\n",
    "valid_ds = TensorDataset(torch.tensor(test_x.values).float(), torch.tensor(test_y.values).float())\n",
    "\n",
    "def get_data(train_ds, valid_ds, bs):\n",
    "    return (\n",
    "        DataLoader(train_ds, batch_size=bs, shuffle=True),\n",
    "        DataLoader(valid_ds, batch_size=bs * 2),\n",
    "    )\n",
    "\n",
    "train_dl, valid_dl = get_data(train_ds, valid_ds, bs=256)\n",
    "\n",
    "db = basic_data.DataBunch(train_dl, valid_dl)\n",
    "\n",
    "model = AE_3D_200()\n",
    "\n",
    "class RMSELoss(torch.nn.Module):\n",
    "    def __init__(self):\n",
    "        super(RMSELoss,self).__init__()\n",
    "\n",
    "    def forward(self,x,y):\n",
    "        criterion = nn.MSELoss()\n",
    "        loss = torch.sqrt(criterion(x, y))\n",
    "        return loss\n",
    "loss_func = nn.MSELoss()\n",
    "\n",
    "bn_wd = False  # Don't use weight decay fpr batchnorm layers\n",
    "true_wd = True  # wd will be used for all optimizers\n",
    "wd = 1e-6\n",
    "learn = basic_train.Learner(data=db, model=model, loss_func=loss_func, wd=wd, callback_fns=ActivationStats, bn_wd=bn_wd, true_wd=true_wd)"
   ]
  },
  {
   "cell_type": "markdown",
   "metadata": {},
   "source": [
    "<h2>Calling the pre-trained model which shall be used</h2>"
   ]
  },
  {
   "cell_type": "code",
   "execution_count": 8,
   "metadata": {},
   "outputs": [
    {
     "data": {
      "text/plain": [
       "Learner(data=DataBunch;\n",
       "\n",
       "Train: <torch.utils.data.dataset.TensorDataset object at 0x7f30e0416990>;\n",
       "\n",
       "Valid: <torch.utils.data.dataset.TensorDataset object at 0x7f30e0141f10>;\n",
       "\n",
       "Test: None, model=AE_3D_200(\n",
       "  (en1): Linear(in_features=4, out_features=200, bias=True)\n",
       "  (en2): Linear(in_features=200, out_features=100, bias=True)\n",
       "  (en3): Linear(in_features=100, out_features=50, bias=True)\n",
       "  (en4): Linear(in_features=50, out_features=3, bias=True)\n",
       "  (de1): Linear(in_features=3, out_features=50, bias=True)\n",
       "  (de2): Linear(in_features=50, out_features=100, bias=True)\n",
       "  (de3): Linear(in_features=100, out_features=200, bias=True)\n",
       "  (de4): Linear(in_features=200, out_features=4, bias=True)\n",
       "  (tanh): Tanh()\n",
       "), opt_func=functools.partial(<class 'torch.optim.adam.Adam'>, betas=(0.9, 0.99)), loss_func=MSELoss(), metrics=[], true_wd=True, bn_wd=False, wd=1e-06, train_bn=True, path=PosixPath('.'), model_dir='models', callback_fns=[functools.partial(<class 'fastai.basic_train.Recorder'>, add_time=True, silent=False), <class 'fastai.callbacks.hooks.ActivationStats'>], callbacks=[], layer_groups=[Sequential(\n",
       "  (0): Linear(in_features=4, out_features=200, bias=True)\n",
       "  (1): Linear(in_features=200, out_features=100, bias=True)\n",
       "  (2): Linear(in_features=100, out_features=50, bias=True)\n",
       "  (3): Linear(in_features=50, out_features=3, bias=True)\n",
       "  (4): Linear(in_features=3, out_features=50, bias=True)\n",
       "  (5): Linear(in_features=50, out_features=100, bias=True)\n",
       "  (6): Linear(in_features=100, out_features=200, bias=True)\n",
       "  (7): Linear(in_features=200, out_features=4, bias=True)\n",
       "  (8): Tanh()\n",
       ")], add_time=True, silent=False)"
      ]
     },
     "execution_count": 8,
     "metadata": {},
     "output_type": "execute_result"
    }
   ],
   "source": [
    "learn.load('AE_3D_200_no1cycle_trainforever')"
   ]
  },
  {
   "cell_type": "markdown",
   "metadata": {},
   "source": [
    "<h2>Validating the model</h2>"
   ]
  },
  {
   "cell_type": "code",
   "execution_count": 9,
   "metadata": {},
   "outputs": [
    {
     "data": {
      "text/html": [],
      "text/plain": [
       "<IPython.core.display.HTML object>"
      ]
     },
     "metadata": {},
     "output_type": "display_data"
    },
    {
     "data": {
      "text/plain": [
       "[0.5058878]"
      ]
     },
     "execution_count": 9,
     "metadata": {},
     "output_type": "execute_result"
    }
   ],
   "source": [
    "learn.validate()"
   ]
  },
  {
   "cell_type": "markdown",
   "metadata": {},
   "source": [
    "<h2>Using matplotlib to facilitate printing of our custom graphs</h2>"
   ]
  },
  {
   "cell_type": "code",
   "execution_count": 10,
   "metadata": {},
   "outputs": [],
   "source": [
    "import matplotlib as mpl\n",
    "import matplotlib.pyplot as plt\n",
    "from colorsys import hsv_to_rgb\n",
    "\n",
    "class ms:\n",
    "    def set_my_style():\n",
    "        # lines\n",
    "        mpl.rcParams['lines.linewidth'] = 2\n",
    "        mpl.rcParams['lines.color'] = 'r'\n",
    "\n",
    "        # axis\n",
    "        mpl.rcParams['axes.titlesize'] = 26\n",
    "        mpl.rcParams['axes.grid'] = True\n",
    "\n",
    "\n",
    "    def sciy():\n",
    "        plt.gca().ticklabel_format(style='sci', scilimits=(0, 0), axis='y')\n",
    "\n",
    "\n",
    "    def scix():\n",
    "        plt.gca().ticklabel_format(style='sci', scilimits=(0, 0), axis='x')\n",
    "\n",
    "\n",
    "    def colorprog(i_prog, Nplots, v1=.9, v2=1., cm='hsv'):\n",
    "        if hasattr(Nplots, '__len__'):\n",
    "            Nplots = len(Nplots)\n",
    "        if cm == 'hsv':\n",
    "            return hsv_to_rgb(float(i_prog) / float(Nplots), v1, v2)\n",
    "        elif cm == 'rainbow':\n",
    "            return [plt.cm.rainbow(k) for k in np.linspace(0, 1, Nplots)][i_prog]\n",
    "        else:\n",
    "            raise ValueError('What?!')"
   ]
  },
  {
   "cell_type": "markdown",
   "metadata": {},
   "source": [
    "<h2>Plotting number of events nefore and after data is fed through AutoEncoder</h2>"
   ]
  },
  {
   "cell_type": "code",
   "execution_count": 11,
   "metadata": {},
   "outputs": [
    {
     "data": {
      "image/png": "[encoded data removed]",
      "text/plain": [
       "<Figure size 432x288 with 1 Axes>"
      ]
     },
     "metadata": {
      "needs_background": "light"
     },
     "output_type": "display_data"
    },
    {
     "data": {
      "image/png": "[encoded data removed]",
      "text/plain": [
       "<Figure size 432x288 with 1 Axes>"
      ]
     },
     "metadata": {
      "needs_background": "light"
     },
     "output_type": "display_data"
    },
    {
     "data": {
      "image/png": "[encoded data removed]",
      "text/plain": [
       "<Figure size 432x288 with 1 Axes>"
      ]
     },
     "metadata": {
      "needs_background": "light"
     },
     "output_type": "display_data"
    },
    {
     "data": {
      "image/png": "[encoded data removed]",
      "text/plain": [
       "<Figure size 432x288 with 1 Axes>"
      ]
     },
     "metadata": {
      "needs_background": "light"
     },
     "output_type": "display_data"
    }
   ],
   "source": [
    "plt.close('all')\n",
    "unit_list = ['[GeV]', '[rad]', '[rad]', '[GeV]']\n",
    "variable_list = [r'$m$', r'$p_T$', r'$\\phi$', r'$\\eta$']\n",
    "line_style = ['--', '-']\n",
    "colors = ['orange', 'c']\n",
    "markers = ['*', 's']\n",
    "\n",
    "model.to('cpu')\n",
    "\n",
    "# Histograms\n",
    "idxs = (0, 100000)  # Choose events to compare\n",
    "data = torch.tensor(test_x[idxs[0]:idxs[1]].values).float()\n",
    "pred = model(data).detach().numpy()\n",
    "pred = np.multiply(pred, train_std.values)\n",
    "pred = np.add(pred, train_mean.values)\n",
    "data = np.multiply(data, train_std.values)\n",
    "data = np.add(data, train_mean.values)\n",
    "\n",
    "alph = 0.8\n",
    "n_bins = 50\n",
    "for kk in np.arange(4):\n",
    "    plt.figure(kk + 4)\n",
    "    n_hist_data, bin_edges, _ = plt.hist(data[:, kk], color=colors[1], label='Input', alpha=1, bins=n_bins)\n",
    "    n_hist_pred, _, _ = plt.hist(pred[:, kk], color=colors[0], label='Output', alpha=alph, bins=bin_edges)\n",
    "    plt.suptitle(train_x.columns[kk])\n",
    "    plt.xlabel(variable_list[kk] + ' ' + unit_list[kk])\n",
    "    plt.ylabel('Number of events')\n",
    "    ms.sciy()\n",
    "    # plt.yscale('log')\n",
    "    plt.legend()"
   ]
  },
  {
   "cell_type": "markdown",
   "metadata": {},
   "source": [
    "<h2>Declaring standard error which shall be used in next cell</h2>"
   ]
  },
  {
   "cell_type": "code",
   "execution_count": 13,
   "metadata": {},
   "outputs": [],
   "source": [
    "def std_error(x, axis=None, ddof=0):\n",
    "    return np.nanstd(x, axis=axis, ddof=ddof) / np.sqrt(2 * len(x))\n"
   ]
  },
  {
   "cell_type": "markdown",
   "metadata": {},
   "source": [
    "<h2>Plotting number of jets before and after data is fed through AutoEncoder</h2>"
   ]
  },
  {
   "cell_type": "code",
   "execution_count": 14,
   "metadata": {},
   "outputs": [
    {
     "data": {
      "image/png": "[encoded data removed]",
      "text/plain": [
       "<Figure size 432x288 with 1 Axes>"
      ]
     },
     "metadata": {
      "needs_background": "light"
     },
     "output_type": "display_data"
    },
    {
     "data": {
      "image/png": "[encoded data removed]",
      "text/plain": [
       "<Figure size 432x288 with 1 Axes>"
      ]
     },
     "metadata": {
      "needs_background": "light"
     },
     "output_type": "display_data"
    },
    {
     "data": {
      "image/png": "[encoded data removed]",
      "text/plain": [
       "<Figure size 432x288 with 1 Axes>"
      ]
     },
     "metadata": {
      "needs_background": "light"
     },
     "output_type": "display_data"
    },
    {
     "data": {
      "image/png": "[encoded data removed]",
      "text/plain": [
       "<Figure size 432x288 with 1 Axes>"
      ]
     },
     "metadata": {
      "needs_background": "light"
     },
     "output_type": "display_data"
    }
   ],
   "source": [
    "import utils\n",
    "from scipy import stats\n",
    "residual_strings = [r'$(p_{T,out} - p_{T,in}) / p_{T,in}$',\n",
    "                        r'$(\\eta_{out} - \\eta_{in}) / \\eta_{in}$',\n",
    "                        r'$(\\phi_{out} - \\phi_{in}) / \\phi_{in}$',\n",
    "                        r'$(E_{out} - E_{in}) / E_{in}$']\n",
    "residuals = (pred - data.detach().numpy()) / data.detach().numpy()\n",
    "range = (-.02, .02)\n",
    "#range=None\n",
    "for kk in np.arange(4):\n",
    "    plt.figure()\n",
    "    n_hist_pred, bin_edges, _ = plt.hist(\n",
    "        residuals[:, kk], label='Residuals', linestyle=line_style[0], alpha=alph, bins=100, range=range)\n",
    "    plt.suptitle('Residuals of %s' % train.columns[kk])\n",
    "    plt.xlabel(residual_strings[kk])  # (train.columns[kk], train.columns[kk], train.columns[kk]))\n",
    "    plt.ylabel('Number of jets')\n",
    "    ms.sciy()\n",
    "    #plt.yscale('log')\n",
    "    std = np.std(residuals[:, kk])\n",
    "    std_err = std_error(residuals[:, kk])\n",
    "    mean = np.nanmean(residuals[:, kk])\n",
    "    sem = stats.sem(residuals[:, kk], nan_policy='omit')\n",
    "    ax = plt.gca()\n",
    "    plt.text(.75, .8, 'Mean = %f$\\pm$%f\\n$\\sigma$ = %f$\\pm$%f' % (mean, sem, std, std_err), bbox={'facecolor': 'white', 'alpha': 0.7, 'pad': 10},\n",
    "             horizontalalignment='center', verticalalignment='center', transform=ax.transAxes, fontsize=18)\n",
    "    fig_name = 'trainforever_residual_%s' % train.columns[kk]"
   ]
  },
  {
   "cell_type": "code",
   "execution_count": null,
   "metadata": {},
   "outputs": [],
   "source": []
  }
 ],
 "metadata": {
  "kernelspec": {
   "display_name": "Python 3",
   "language": "python",
   "name": "python3"
  },
  "language_info": {
   "codemirror_mode": {
    "name": "ipython",
    "version": 3
   },
   "file_extension": ".py",
   "mimetype": "text/x-python",
   "name": "python",
   "nbconvert_exporter": "python",
   "pygments_lexer": "ipython3",
   "version": "3.7.6"
  }
 },
 "nbformat": 4,
 "nbformat_minor": 4
}
